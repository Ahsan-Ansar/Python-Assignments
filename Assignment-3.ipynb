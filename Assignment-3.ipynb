{
 "cells": [
  {
   "cell_type": "code",
   "execution_count": 23,
   "id": "57e9eaeb-4168-45f4-bb10-4cf89ee751c7",
   "metadata": {},
   "outputs": [],
   "source": [
    "#Print 0 - 20 by Using Range"
   ]
  },
  {
   "cell_type": "code",
   "execution_count": 24,
   "id": "bbdbf5a8-8242-4998-9d6c-7d916b7a2bee",
   "metadata": {},
   "outputs": [
    {
     "name": "stdout",
     "output_type": "stream",
     "text": [
      "0\n",
      "1\n",
      "2\n",
      "3\n",
      "4\n",
      "5\n",
      "6\n",
      "7\n",
      "8\n",
      "9\n",
      "10\n",
      "11\n",
      "12\n",
      "13\n",
      "14\n",
      "15\n",
      "16\n",
      "17\n",
      "18\n",
      "19\n",
      "20\n"
     ]
    }
   ],
   "source": [
    "for group in range(21):\n",
    "    print(group)"
   ]
  },
  {
   "cell_type": "code",
   "execution_count": null,
   "id": "e899fa7f-516d-4437-88a9-ca621068bfb7",
   "metadata": {},
   "outputs": [],
   "source": []
  },
  {
   "cell_type": "code",
   "execution_count": 25,
   "id": "50a95c36-16dd-487b-a556-f5e3c9e396ad",
   "metadata": {},
   "outputs": [],
   "source": [
    "#Print Range 10 - 20"
   ]
  },
  {
   "cell_type": "code",
   "execution_count": 26,
   "id": "18bbe6dc-4162-4ab7-9712-ec142b5e006a",
   "metadata": {},
   "outputs": [
    {
     "name": "stdout",
     "output_type": "stream",
     "text": [
      "10\n",
      "11\n",
      "12\n",
      "13\n",
      "14\n",
      "15\n",
      "16\n",
      "17\n",
      "18\n",
      "19\n"
     ]
    }
   ],
   "source": [
    "for group_2 in range(10, 20):\n",
    "    print(group_2)"
   ]
  },
  {
   "cell_type": "code",
   "execution_count": null,
   "id": "14dd4144-3f4b-46e4-85ba-0ddf746a68d2",
   "metadata": {},
   "outputs": [],
   "source": []
  },
  {
   "cell_type": "code",
   "execution_count": 27,
   "id": "ea515160-6dd7-4608-bdc9-648031c57689",
   "metadata": {},
   "outputs": [],
   "source": [
    "#Print Number of Items in the List by Using 'len'"
   ]
  },
  {
   "cell_type": "code",
   "execution_count": 28,
   "id": "d9776021-d997-41e0-b172-1adc3ffde8f1",
   "metadata": {},
   "outputs": [
    {
     "name": "stdout",
     "output_type": "stream",
     "text": [
      "Number of Items in List: 7\n"
     ]
    }
   ],
   "source": [
    "list = [10, 20, 14, 55, 43, 87, 76]\n",
    "NOI = len(list)\n",
    "print(\"Number of Items in List:\",NOI)"
   ]
  },
  {
   "cell_type": "code",
   "execution_count": null,
   "id": "6f5617cf-8008-434f-96dc-c293a341e9e5",
   "metadata": {},
   "outputs": [],
   "source": []
  },
  {
   "cell_type": "code",
   "execution_count": 29,
   "id": "f225b2b0-9899-41de-a80a-86282156a0aa",
   "metadata": {},
   "outputs": [
    {
     "name": "stdout",
     "output_type": "stream",
     "text": [
      "Artificial Intelligence\n",
      "A\n",
      "r\n",
      "t\n",
      "i\n",
      "f\n",
      "i\n",
      "c\n",
      "i\n",
      "a\n",
      "l\n",
      " \n",
      "I\n",
      "n\n",
      "t\n",
      "e\n",
      "l\n",
      "l\n",
      "i\n",
      "g\n",
      "e\n",
      "n\n",
      "c\n",
      "e\n"
     ]
    }
   ],
   "source": [
    "print(\"Artificial Intelligence\")\n",
    "print(\"A\")\n",
    "print(\"r\")\n",
    "print(\"t\")\n",
    "print(\"i\")\n",
    "print(\"f\")\n",
    "print(\"i\")\n",
    "print(\"c\")\n",
    "print(\"i\")\n",
    "print(\"a\")\n",
    "print(\"l\")\n",
    "print(\" \")\n",
    "print(\"I\")\n",
    "print(\"n\")\n",
    "print(\"t\")\n",
    "print(\"e\")\n",
    "print(\"l\")\n",
    "print(\"l\")\n",
    "print(\"i\")\n",
    "print(\"g\")\n",
    "print(\"e\")\n",
    "print(\"n\")\n",
    "print(\"c\")\n",
    "print(\"e\")"
   ]
  },
  {
   "cell_type": "code",
   "execution_count": null,
   "id": "3a9aef9e-168b-4d0c-af45-7ae8d808c2d1",
   "metadata": {},
   "outputs": [],
   "source": []
  },
  {
   "cell_type": "code",
   "execution_count": 30,
   "id": "c9c8418f-61c2-48f8-b9b1-332a3e682bce",
   "metadata": {},
   "outputs": [
    {
     "name": "stdin",
     "output_type": "stream",
     "text": [
      "-Your Name- Ahsan\n",
      "-Your Age- 21\n",
      "-Your Profession- Software Developer\n"
     ]
    }
   ],
   "source": [
    "Name = input(\"-Your Name-\")\n",
    "Age = input(\"-Your Age-\")\n",
    "Prifession = input(\"-Your Profession-\")"
   ]
  },
  {
   "cell_type": "code",
   "execution_count": null,
   "id": "ec82d456-14a6-4242-842c-816fda78fcb0",
   "metadata": {},
   "outputs": [],
   "source": []
  },
  {
   "cell_type": "code",
   "execution_count": 31,
   "id": "c51eb6c9-9ec9-41a2-ac93-1468f9e58696",
   "metadata": {},
   "outputs": [],
   "source": [
    "# Refer this link: https://www.geeksforgeeks.org/python-tuples/\n",
    "#Print this mixered data type using tuples"
   ]
  },
  {
   "cell_type": "code",
   "execution_count": 32,
   "id": "6452332f-90f2-4c9b-9b53-085b330c0263",
   "metadata": {},
   "outputs": [
    {
     "data": {
      "text/html": [
       "<a href=\"https://www.geeksforgeeks.org/python-tuples/\" target=\"_blank\">GeeksforGeeks - Python Tuples</a>"
      ],
      "text/plain": [
       "<IPython.core.display.HTML object>"
      ]
     },
     "metadata": {},
     "output_type": "display_data"
    },
    {
     "name": "stdout",
     "output_type": "stream",
     "text": [
      "(1, 'Welcome', 2, 'Mars Tech')\n"
     ]
    }
   ],
   "source": [
    "from IPython.display import display, HTML\n",
    "\n",
    "url = \"https://www.geeksforgeeks.org/python-tuples/\"\n",
    "display(HTML(f'<a href=\"{url}\" target=\"_blank\">GeeksforGeeks - Python Tuples</a>'))\n",
    "\n",
    "mixed_tuple = (1, \"Welcome\", 2, \"Mars Tech\")\n",
    "print(mixed_tuple)"
   ]
  },
  {
   "cell_type": "code",
   "execution_count": null,
   "id": "49170418-775b-4238-a8dc-fc2b1bd37401",
   "metadata": {},
   "outputs": [],
   "source": []
  },
  {
   "cell_type": "code",
   "execution_count": null,
   "id": "76ed9b63-ad6a-492a-ad9b-07d856ec331d",
   "metadata": {},
   "outputs": [],
   "source": [
    "#Print Odd Numbers in the List"
   ]
  },
  {
   "cell_type": "code",
   "execution_count": 34,
   "id": "fd516176-4207-479b-97e7-f64ff571cc29",
   "metadata": {},
   "outputs": [
    {
     "name": "stdout",
     "output_type": "stream",
     "text": [
      "19 is odd\n",
      "25 is odd\n",
      "1 is odd\n"
     ]
    }
   ],
   "source": [
    "numbers = [20, 10, 16, 19, 25, 1, 276, 188]\n",
    "for odd in numbers:\n",
    "    if odd %2 !=0:\n",
    "        print(odd,\"is odd\")"
   ]
  },
  {
   "cell_type": "code",
   "execution_count": null,
   "id": "cca9b7d1-42af-45ce-a76b-c88f1169daf2",
   "metadata": {},
   "outputs": [],
   "source": []
  },
  {
   "cell_type": "code",
   "execution_count": 35,
   "id": "bf3969ec-a9c1-47d5-98cb-d73993d8d062",
   "metadata": {},
   "outputs": [],
   "source": [
    "#Print Even Numbers in the List"
   ]
  },
  {
   "cell_type": "code",
   "execution_count": 40,
   "id": "1d16e89f-cce3-4d91-99c6-d7358a5a7fd4",
   "metadata": {},
   "outputs": [
    {
     "name": "stdout",
     "output_type": "stream",
     "text": [
      "20 is even\n",
      "10 is even\n",
      "16 is even\n",
      "276 is even\n",
      "188 is even\n"
     ]
    }
   ],
   "source": [
    "numbers = [20, 10, 16, 19, 25, 1, 276, 188]\n",
    "for even in numbers:\n",
    "    if even %2 ==0:\n",
    "        print(even, \"is even\")"
   ]
  },
  {
   "cell_type": "code",
   "execution_count": null,
   "id": "43939892-37f2-45c7-a0ea-25f95b6f4485",
   "metadata": {},
   "outputs": [],
   "source": []
  }
 ],
 "metadata": {
  "kernelspec": {
   "display_name": "Python 3 (ipykernel)",
   "language": "python",
   "name": "python3"
  },
  "language_info": {
   "codemirror_mode": {
    "name": "ipython",
    "version": 3
   },
   "file_extension": ".py",
   "mimetype": "text/x-python",
   "name": "python",
   "nbconvert_exporter": "python",
   "pygments_lexer": "ipython3",
   "version": "3.12.7"
  }
 },
 "nbformat": 4,
 "nbformat_minor": 5
}
