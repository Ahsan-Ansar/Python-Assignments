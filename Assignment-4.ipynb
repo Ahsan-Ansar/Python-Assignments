{
 "cells": [
  {
   "cell_type": "code",
   "execution_count": 1,
   "id": "2b3518f2-00ca-4c34-a857-771a9df05347",
   "metadata": {},
   "outputs": [],
   "source": [
    "#Print 'CORRECT' if i==10"
   ]
  },
  {
   "cell_type": "code",
   "execution_count": 2,
   "id": "58906455-74ae-45fe-bf99-dafd64d133ce",
   "metadata": {},
   "outputs": [
    {
     "name": "stdout",
     "output_type": "stream",
     "text": [
      "CORRECT\n"
     ]
    }
   ],
   "source": [
    "i = 10\n",
    "if i == 10:\n",
    "    print(\"CORRECT\")"
   ]
  },
  {
   "cell_type": "code",
   "execution_count": null,
   "id": "7338a3ac-2914-4422-9fbc-6e4a1a87c57e",
   "metadata": {},
   "outputs": [],
   "source": []
  },
  {
   "cell_type": "code",
   "execution_count": 3,
   "id": "b3711f83-e7dd-4f90-8883-cfef0f4aa041",
   "metadata": {},
   "outputs": [],
   "source": [
    "#Check the Password, Using if and else"
   ]
  },
  {
   "cell_type": "code",
   "execution_count": 7,
   "id": "3b1f7e78-8407-406c-b8f9-b12ac0d9a44d",
   "metadata": {},
   "outputs": [
    {
     "name": "stdin",
     "output_type": "stream",
     "text": [
      "Enter the Password marstech@123\n"
     ]
    },
    {
     "name": "stdout",
     "output_type": "stream",
     "text": [
      "Your Password is Correct\n"
     ]
    }
   ],
   "source": [
    "password = \"marstech@123\"\n",
    "Password = input(\"Enter the Password\")\n",
    "if Password == password:\n",
    "    print(\"Your Password is Correct\")\n",
    "\n",
    "else:\n",
    "    print(\"Your Password is Incorrect\")"
   ]
  },
  {
   "cell_type": "code",
   "execution_count": null,
   "id": "5fc33c6d-08a7-46d6-ad2f-e82f1ad8341e",
   "metadata": {},
   "outputs": [],
   "source": []
  },
  {
   "cell_type": "code",
   "execution_count": 8,
   "id": "ba2fc348-4acc-4ed7-8f8e-ecac1c5d7966",
   "metadata": {},
   "outputs": [],
   "source": [
    "#Category the People by Their Age Like Children, Adult, Citizen, Senior Citizen 18, 35, 50"
   ]
  },
  {
   "cell_type": "code",
   "execution_count": 42,
   "id": "2c39882b-dba8-418f-83e1-d43abea83090",
   "metadata": {},
   "outputs": [
    {
     "name": "stdout",
     "output_type": "stream",
     "text": [
      " Age: 17\n",
      "Children\n",
      " Age: 28\n",
      "Senior Citizen\n",
      " Age: 36\n",
      "Senior Citizen\n",
      " Age: 45\n",
      "Senior Citizen\n",
      " Age: 49\n",
      "Senior Citizen\n",
      " Age: 52\n",
      "Senior Citizen\n",
      " Age: 56\n",
      "Senior Citizen\n",
      " Age: 60\n",
      "Senior Citizen\n"
     ]
    }
   ],
   "source": [
    "List = [17, 28, 36, 45, 49, 52, 56, 60]\n",
    "for age in List:\n",
    "    category = categorize_age(age)\n",
    "    print(f\" Age: {age}\")\n",
    "    print(f\"{category}\")\n",
    "\n",
    "def categorize_age(age):\n",
    "    if age < 18:\n",
    "        return \"Children\"\n",
    "\n",
    "    elif age >= 18 | age < 35:\n",
    "        return \"Adult\"\n",
    "\n",
    "    elif age >= 35 | age < 50:\n",
    "        return \"Citizen\"\n",
    "\n",
    "    else:\n",
    "        return \"Senior Citizen\""
   ]
  },
  {
   "cell_type": "code",
   "execution_count": null,
   "id": "657a26e3-3c5e-47b8-beb8-ac6575244f7f",
   "metadata": {},
   "outputs": [],
   "source": []
  },
  {
   "cell_type": "code",
   "execution_count": 43,
   "id": "b62b2cff-ce2d-4a00-afbb-a7115424d45b",
   "metadata": {},
   "outputs": [],
   "source": [
    "#Find Whether given Number is Positive or Negetive"
   ]
  },
  {
   "cell_type": "code",
   "execution_count": 47,
   "id": "c2e4d97d-1668-434e-9e59-6c8ae16994d7",
   "metadata": {},
   "outputs": [
    {
     "name": "stdin",
     "output_type": "stream",
     "text": [
      "Enter a Number 14\n"
     ]
    },
    {
     "name": "stdout",
     "output_type": "stream",
     "text": [
      "Number is Positive\n"
     ]
    }
   ],
   "source": [
    "number = int(input(\"Enter a Number\"))\n",
    "\n",
    "if (number > 0):\n",
    "    print(\"Number is Positive\")\n",
    "\n",
    "else:\n",
    "    print(\"Number is Negetive\")"
   ]
  },
  {
   "cell_type": "code",
   "execution_count": null,
   "id": "c86018c5-2c2e-4ec8-a1dc-33955f605a0c",
   "metadata": {},
   "outputs": [],
   "source": []
  },
  {
   "cell_type": "code",
   "execution_count": 48,
   "id": "6c417dd7-79bd-4533-914e-8005718aaa20",
   "metadata": {},
   "outputs": [],
   "source": [
    "#Check Whether the Given Number is Divisible by 5"
   ]
  },
  {
   "cell_type": "code",
   "execution_count": 64,
   "id": "507a98d8-f707-4cc7-b4e2-747e77f733b2",
   "metadata": {},
   "outputs": [
    {
     "name": "stdin",
     "output_type": "stream",
     "text": [
      "Enter a Number to Check 22\n"
     ]
    },
    {
     "name": "stdout",
     "output_type": "stream",
     "text": [
      "Number is Not Devisible by 5\n"
     ]
    }
   ],
   "source": [
    "input_num = float(input(\"Enter a Number to Check\"))\n",
    "\n",
    "if input_num %5 == 0:\n",
    "    print(\"Number is Divisible by 5\")\n",
    "\n",
    "else:\n",
    "    print(\"Number is Not Devisible by 5\")"
   ]
  },
  {
   "cell_type": "code",
   "execution_count": null,
   "id": "91a5daea-d622-486d-b234-7e9a7f319679",
   "metadata": {},
   "outputs": [],
   "source": []
  }
 ],
 "metadata": {
  "kernelspec": {
   "display_name": "Python 3 (ipykernel)",
   "language": "python",
   "name": "python3"
  },
  "language_info": {
   "codemirror_mode": {
    "name": "ipython",
    "version": 3
   },
   "file_extension": ".py",
   "mimetype": "text/x-python",
   "name": "python",
   "nbconvert_exporter": "python",
   "pygments_lexer": "ipython3",
   "version": "3.12.7"
  }
 },
 "nbformat": 4,
 "nbformat_minor": 5
}
