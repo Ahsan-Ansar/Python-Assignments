{
 "cells": [
  {
   "cell_type": "code",
   "execution_count": 2,
   "id": "788ebf50-c4bf-4e0f-b987-bf85aca1bab8",
   "metadata": {},
   "outputs": [],
   "source": [
    "#Print Statement"
   ]
  },
  {
   "cell_type": "code",
   "execution_count": 3,
   "id": "af8f5a26-643f-484b-9474-5d185f4d299a",
   "metadata": {},
   "outputs": [
    {
     "name": "stdout",
     "output_type": "stream",
     "text": [
      "Mars Tech\n"
     ]
    }
   ],
   "source": [
    "print(\"Mars Tech\")"
   ]
  },
  {
   "cell_type": "code",
   "execution_count": null,
   "id": "fdbdef27-3c63-45e3-826a-1a8b203eb6f9",
   "metadata": {},
   "outputs": [],
   "source": []
  },
  {
   "cell_type": "code",
   "execution_count": 4,
   "id": "f7f6dbf2-54f5-4729-b60c-db40fb0ba505",
   "metadata": {},
   "outputs": [],
   "source": [
    "#Buy Input"
   ]
  },
  {
   "cell_type": "code",
   "execution_count": 5,
   "id": "4b0522ea-6720-4871-898a-911771634bef",
   "metadata": {},
   "outputs": [
    {
     "name": "stdin",
     "output_type": "stream",
     "text": [
      "Enter Your Institute Name :  Mars Tech\n"
     ]
    }
   ],
   "source": [
    "Institute = input(\"Enter Your Institute Name : \")"
   ]
  },
  {
   "cell_type": "code",
   "execution_count": null,
   "id": "cfe84918-8eb5-433a-b62f-02368203b7be",
   "metadata": {},
   "outputs": [],
   "source": []
  },
  {
   "cell_type": "code",
   "execution_count": 6,
   "id": "36155eff-f407-4b37-8119-ec1a67336a21",
   "metadata": {},
   "outputs": [],
   "source": [
    "#Buy Inputs"
   ]
  },
  {
   "cell_type": "code",
   "execution_count": 7,
   "id": "544e7093-2282-4efa-bab8-7695874c807b",
   "metadata": {},
   "outputs": [
    {
     "name": "stdin",
     "output_type": "stream",
     "text": [
      "Enter Your Name :  Ahsan\n",
      "Enter Your Age 21\n",
      "Enter Your School Name Al-Badriya M.V.\\\n",
      "Enter Your Degree BIT\n"
     ]
    }
   ],
   "source": [
    "Name = input(\"Enter Your Name : \")\n",
    "Age = input(\"Enter Your Age:\")\n",
    "School = input(\"Enter Your School Name:\")\n",
    "Degree = input (\"Enter Your Degree:\")"
   ]
  },
  {
   "cell_type": "code",
   "execution_count": null,
   "id": "e72001dd-b028-471e-95bd-25725696afce",
   "metadata": {},
   "outputs": [],
   "source": []
  },
  {
   "cell_type": "code",
   "execution_count": 8,
   "id": "41c34ac6-ebba-4790-b9c3-7e1fa6f78993",
   "metadata": {},
   "outputs": [],
   "source": [
    "#Addition"
   ]
  },
  {
   "cell_type": "code",
   "execution_count": 20,
   "id": "dc90195a-e8df-49a0-b096-f0f5e59ca18a",
   "metadata": {},
   "outputs": [
    {
     "name": "stdout",
     "output_type": "stream",
     "text": [
      "add: 77\n"
     ]
    }
   ],
   "source": [
    "a = 43\n",
    "b = 34\n",
    "add = a + b\n",
    "print(\"add:\",add)"
   ]
  },
  {
   "cell_type": "code",
   "execution_count": null,
   "id": "c707ed79-8dc5-4a2a-8469-af4e0ec2f9d2",
   "metadata": {},
   "outputs": [],
   "source": []
  },
  {
   "cell_type": "code",
   "execution_count": 10,
   "id": "792edd7a-6f73-4f8c-99ad-05fe23b3b4d9",
   "metadata": {},
   "outputs": [],
   "source": [
    "#Substraction"
   ]
  },
  {
   "cell_type": "code",
   "execution_count": 19,
   "id": "94fd8341-9322-4a10-8a2f-09ac2401a050",
   "metadata": {},
   "outputs": [
    {
     "name": "stdout",
     "output_type": "stream",
     "text": [
      "sub: 9\n"
     ]
    }
   ],
   "source": [
    "a = 43\n",
    "b = 34\n",
    "sub = a - b\n",
    "print(\"sub:\",sub)"
   ]
  },
  {
   "cell_type": "code",
   "execution_count": null,
   "id": "45d0e80b-9429-4890-831d-2db9be3b116e",
   "metadata": {},
   "outputs": [],
   "source": []
  },
  {
   "cell_type": "code",
   "execution_count": 16,
   "id": "5cc6d8bc-076b-4995-bc89-34cf07d1fe03",
   "metadata": {},
   "outputs": [],
   "source": [
    "#Multiplication"
   ]
  },
  {
   "cell_type": "code",
   "execution_count": 18,
   "id": "75daefae-9b73-4b1d-b31f-07632368cfab",
   "metadata": {},
   "outputs": [
    {
     "name": "stdout",
     "output_type": "stream",
     "text": [
      "multi: 6111\n"
     ]
    }
   ],
   "source": [
    "a = 63\n",
    "b = 97\n",
    "multi = a * b\n",
    "print(\"multi:\",multi)"
   ]
  },
  {
   "cell_type": "code",
   "execution_count": null,
   "id": "d59cb78a-8796-4e71-a935-ca3ae008eafc",
   "metadata": {},
   "outputs": [],
   "source": []
  },
  {
   "cell_type": "code",
   "execution_count": 21,
   "id": "4d1c917b-9675-449f-bfe4-bbc75db34112",
   "metadata": {},
   "outputs": [],
   "source": [
    "#Division"
   ]
  },
  {
   "cell_type": "code",
   "execution_count": 24,
   "id": "eb6aaae3-a600-47c0-af0b-fe94e1f34ba9",
   "metadata": {},
   "outputs": [
    {
     "name": "stdout",
     "output_type": "stream",
     "text": [
      "Div: 2.4516129032258065\n"
     ]
    }
   ],
   "source": [
    "a = 76\n",
    "b = 31\n",
    "Div = a / b\n",
    "print(\"Div:\",Div)"
   ]
  },
  {
   "cell_type": "code",
   "execution_count": null,
   "id": "2efcce52-5f10-4555-b7ac-509de19dd43e",
   "metadata": {},
   "outputs": [],
   "source": []
  },
  {
   "cell_type": "code",
   "execution_count": 25,
   "id": "1fa44993-e480-4395-a33f-f90ad70a83c5",
   "metadata": {},
   "outputs": [],
   "source": [
    "#Floor Division"
   ]
  },
  {
   "cell_type": "code",
   "execution_count": 30,
   "id": "82ba33de-ef8a-44bb-9170-83b1525f264b",
   "metadata": {},
   "outputs": [
    {
     "name": "stdout",
     "output_type": "stream",
     "text": [
      "Floor Div: 2\n"
     ]
    }
   ],
   "source": [
    "a = 76\n",
    "b = 31\n",
    "Floor_Div = a // b\n",
    "print(\"Floor Div:\",Floor_Div)"
   ]
  },
  {
   "cell_type": "code",
   "execution_count": null,
   "id": "62f157a0-61aa-4e1e-8741-23d799a013d7",
   "metadata": {},
   "outputs": [],
   "source": []
  },
  {
   "cell_type": "code",
   "execution_count": 31,
   "id": "b8d6355a-b24a-4bed-8f50-912bcc934809",
   "metadata": {},
   "outputs": [],
   "source": [
    "#Modulo"
   ]
  },
  {
   "cell_type": "code",
   "execution_count": 32,
   "id": "cbc488b7-ca94-4763-8ff3-42fee79ac874",
   "metadata": {},
   "outputs": [
    {
     "name": "stdout",
     "output_type": "stream",
     "text": [
      "Modulo 14\n"
     ]
    }
   ],
   "source": [
    "a = 76\n",
    "b = 31\n",
    "Modulo = a % b\n",
    "print(\"Modulo\",Modulo)"
   ]
  },
  {
   "cell_type": "code",
   "execution_count": null,
   "id": "99c4f0e6-f69c-43d7-8b72-03f884b6c1aa",
   "metadata": {},
   "outputs": [],
   "source": []
  },
  {
   "cell_type": "code",
   "execution_count": 33,
   "id": "d4697aca-e4a2-4e06-a227-3482d61a2f20",
   "metadata": {},
   "outputs": [],
   "source": [
    "#Power"
   ]
  },
  {
   "cell_type": "code",
   "execution_count": 35,
   "id": "65a8b916-2a79-4cbb-b276-b6adfb3aa32a",
   "metadata": {},
   "outputs": [
    {
     "name": "stdout",
     "output_type": "stream",
     "text": [
      "Power 256\n"
     ]
    }
   ],
   "source": [
    "a = 4\n",
    "b = 4\n",
    "Power = a ** b\n",
    "print(\"Power\",Power)"
   ]
  },
  {
   "cell_type": "code",
   "execution_count": null,
   "id": "56bc9db7-e6c0-4454-abd0-e72068499f7d",
   "metadata": {},
   "outputs": [],
   "source": []
  }
 ],
 "metadata": {
  "kernelspec": {
   "display_name": "Python 3 (ipykernel)",
   "language": "python",
   "name": "python3"
  },
  "language_info": {
   "codemirror_mode": {
    "name": "ipython",
    "version": 3
   },
   "file_extension": ".py",
   "mimetype": "text/x-python",
   "name": "python",
   "nbconvert_exporter": "python",
   "pygments_lexer": "ipython3",
   "version": "3.12.7"
  }
 },
 "nbformat": 4,
 "nbformat_minor": 5
}
