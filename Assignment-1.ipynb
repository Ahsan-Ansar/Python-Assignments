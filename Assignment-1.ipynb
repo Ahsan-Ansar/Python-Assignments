{
 "cells": [
  {
   "cell_type": "code",
   "execution_count": 1,
   "id": "48a76383-bddb-4159-8fb0-a166ecaceb53",
   "metadata": {},
   "outputs": [
    {
     "name": "stdout",
     "output_type": "stream",
     "text": [
      "Welcome to Assignment-1\n"
     ]
    }
   ],
   "source": [
    "print(\"Welcome to Assignment-1\")"
   ]
  },
  {
   "cell_type": "code",
   "execution_count": null,
   "id": "4af3d43a-9144-4244-a502-33a0a96372a6",
   "metadata": {},
   "outputs": [],
   "source": [
    "#Addition"
   ]
  },
  {
   "cell_type": "code",
   "execution_count": 3,
   "id": "f24eafde-e798-430c-91f5-000d58ea5c38",
   "metadata": {},
   "outputs": [
    {
     "name": "stdout",
     "output_type": "stream",
     "text": [
      "40\n"
     ]
    }
   ],
   "source": [
    "Num1 = 10\n",
    "Num2 = 30\n",
    "Add = Num1 + Num2\n",
    "print(Add)"
   ]
  },
  {
   "cell_type": "code",
   "execution_count": null,
   "id": "ba374d28-12f6-4d00-a82b-cc0f8b72ed1d",
   "metadata": {},
   "outputs": [],
   "source": []
  },
  {
   "cell_type": "code",
   "execution_count": 4,
   "id": "a454aa0c-4928-468b-a585-c7cd3a84b4ef",
   "metadata": {},
   "outputs": [],
   "source": [
    "#Body Mass Index"
   ]
  },
  {
   "cell_type": "code",
   "execution_count": null,
   "id": "7219b899-690b-4b73-b5ec-42d67f6983d2",
   "metadata": {},
   "outputs": [],
   "source": [
    "BMI = float(input(\"Enter BMI Index:\"))\n",
    "\n",
    "if(BMI<18.5):\n",
    "          print(\"Under Weight\")\n",
    "          \n",
    "elif (18.5 < BMI < 24.9):\n",
    "    print(\"Normal Weight\")\n",
    "\n",
    "elif (25.0 < BMI < 29.9):\n",
    "    print(\"Pre-Obesidy\")\n",
    "\n",
    "elif (30.0 < BMI < 34.9):\n",
    "    print(\"Obesidy Class I\")\n",
    "\n",
    "elif (35.0 < BMI < 39.9):\n",
    "    print(\"Obesidy Class II\")\n",
    "\n",
    "else:\n",
    "    print(\"Obesidy Class III\")"
   ]
  },
  {
   "cell_type": "code",
   "execution_count": null,
   "id": "e6b5f38f-a238-412f-b0c4-5573ccb5b4e8",
   "metadata": {},
   "outputs": [],
   "source": []
  }
 ],
 "metadata": {
  "kernelspec": {
   "display_name": "Python 3 (ipykernel)",
   "language": "python",
   "name": "python3"
  },
  "language_info": {
   "codemirror_mode": {
    "name": "ipython",
    "version": 3
   },
   "file_extension": ".py",
   "mimetype": "text/x-python",
   "name": "python",
   "nbconvert_exporter": "python",
   "pygments_lexer": "ipython3",
   "version": "3.12.7"
  }
 },
 "nbformat": 4,
 "nbformat_minor": 5
}
